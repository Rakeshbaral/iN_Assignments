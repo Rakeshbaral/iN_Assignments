{
 "cells": [
  {
   "cell_type": "code",
   "execution_count": 22,
   "metadata": {},
   "outputs": [
    {
     "name": "stdout",
     "output_type": "stream",
     "text": [
      "40\n",
      "120\n"
     ]
    }
   ],
   "source": [
    "def add(a,b):\n",
    "    x=a+b\n",
    "    return x\n",
    "\n",
    "def mul(a,b):\n",
    "    y=a*b\n",
    "    return y\n",
    "\n",
    "def my_reduce(operator,list3):\n",
    "    flag=False\n",
    "    count=0\n",
    "    #list2=list1\n",
    "    previous=0\n",
    "    while(flag==False):\n",
    "        if(count==len(list3)-1):\n",
    "            flag=True\n",
    "            return result\n",
    "        else:            \n",
    "            result=operator(list3[count],list3[count+1])\n",
    "            list3[count+1]=result\n",
    "           # print(result)\n",
    "            count=count+1\n",
    "        \n",
    "list1=[1,2,3,4,10,20]\n",
    "print(my_reduce(add,list1))\n",
    "list2=[4,5,6]\n",
    "print(my_reduce(mul,list2))\n",
    "\n",
    "            \n",
    "    "
   ]
  },
  {
   "cell_type": "code",
   "execution_count": null,
   "metadata": {},
   "outputs": [],
   "source": []
  },
  {
   "cell_type": "code",
   "execution_count": null,
   "metadata": {},
   "outputs": [],
   "source": []
  },
  {
   "cell_type": "code",
   "execution_count": null,
   "metadata": {},
   "outputs": [],
   "source": []
  },
  {
   "cell_type": "code",
   "execution_count": null,
   "metadata": {},
   "outputs": [],
   "source": []
  }
 ],
 "metadata": {
  "kernelspec": {
   "display_name": "Python 3",
   "language": "python",
   "name": "python3"
  },
  "language_info": {
   "codemirror_mode": {
    "name": "ipython",
    "version": 3
   },
   "file_extension": ".py",
   "mimetype": "text/x-python",
   "name": "python",
   "nbconvert_exporter": "python",
   "pygments_lexer": "ipython3",
   "version": "3.8.3"
  }
 },
 "nbformat": 4,
 "nbformat_minor": 4
}
