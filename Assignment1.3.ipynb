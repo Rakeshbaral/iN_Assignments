{
 "cells": [
  {
   "cell_type": "code",
   "execution_count": 3,
   "metadata": {},
   "outputs": [
    {
     "name": "stdout",
     "output_type": "stream",
     "text": [
      "The volume of the given sphere is 904.7786842338603\n"
     ]
    }
   ],
   "source": [
    "import numpy as np\n",
    "diameter=12\n",
    "\n",
    "def volume(dia):\n",
    "    radius=diameter/2\n",
    "    pi=np.pi\n",
    "    volume=4/3*pi*(radius*radius*radius)\n",
    "    print(\"The volume of the given sphere is {}\".format(volume))\n",
    "    \n",
    "volume(diameter)"
   ]
  },
  {
   "cell_type": "code",
   "execution_count": null,
   "metadata": {},
   "outputs": [],
   "source": []
  }
 ],
 "metadata": {
  "kernelspec": {
   "display_name": "Python 3",
   "language": "python",
   "name": "python3"
  },
  "language_info": {
   "codemirror_mode": {
    "name": "ipython",
    "version": 3
   },
   "file_extension": ".py",
   "mimetype": "text/x-python",
   "name": "python",
   "nbconvert_exporter": "python",
   "pygments_lexer": "ipython3",
   "version": "3.8.3"
  }
 },
 "nbformat": 4,
 "nbformat_minor": 4
}
