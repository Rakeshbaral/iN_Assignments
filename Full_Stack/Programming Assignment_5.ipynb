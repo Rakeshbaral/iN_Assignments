{
 "cells": [
  {
   "cell_type": "markdown",
   "metadata": {},
   "source": [
    "Create a function that takes a number n and returns2 if it is odd otherwise 8"
   ]
  },
  {
   "cell_type": "code",
   "execution_count": 7,
   "metadata": {},
   "outputs": [
    {
     "name": "stdout",
     "output_type": "stream",
     "text": [
      "Enter a number greater than 0200\n",
      "8\n"
     ]
    }
   ],
   "source": [
    "x=int(input(\"Enter a number greater than 0\"))\n",
    "def odd_even(x):\n",
    "    dict_num={0:8,2:8,4:8,6:8,8:8,1:2,3:2,5:2,7:2,9:2}\n",
    "    print(dict_num[x%10])\n",
    "odd_even(x)"
   ]
  },
  {
   "cell_type": "markdown",
   "metadata": {},
   "source": [
    "Create a function that returns the majority vote in a list. A majority vote is\n",
    "an element that occurs &gt; N/2 times in a list (where N is the length of the list)."
   ]
  },
  {
   "cell_type": "code",
   "execution_count": 22,
   "metadata": {},
   "outputs": [],
   "source": [
    "def majority_vote(list1):\n",
    "    list2=set(list1)\n",
    "    res_dict={}\n",
    "    for i in list2:\n",
    "        res_dict[i]=0\n",
    "        for j in list1:\n",
    "            if i==j:\n",
    "                res_dict[i]=res_dict[i]+1\n",
    "    #print(res_dict)\n",
    "    for key,value in res_dict.items():\n",
    "        #print(len(list1))\n",
    "        if value>len(list1)//2:\n",
    "            print(key)\n",
    "            break\n",
    "    else:\n",
    "        print(\"None\")\n",
    "                "
   ]
  },
  {
   "cell_type": "code",
   "execution_count": 23,
   "metadata": {},
   "outputs": [
    {
     "name": "stdout",
     "output_type": "stream",
     "text": [
      "6\n"
     ]
    }
   ],
   "source": [
    "list1=[1,2,8,6,6,6,6,6,6,6,6,6,6,6,6,6,6,3,4,5,5,6,6]\n",
    "majority_vote(list1)"
   ]
  },
  {
   "cell_type": "markdown",
   "metadata": {},
   "source": [
    "Create a function that takes a string txt and censors any word from a given\n",
    "list lst. The text removed must be replaced by the given character char."
   ]
  },
  {
   "cell_type": "code",
   "execution_count": 33,
   "metadata": {},
   "outputs": [],
   "source": [
    "def censor_string(req_string,cen_wrds,rep_str):\n",
    "    list1=req_string.split(' ')\n",
    "    #print(list1)\n",
    "    for index,item in enumerate(list1):\n",
    "        if item in cen_wrds:\n",
    "            list1[index]='-'*len(item)\n",
    "    print(list1)\n",
    "    new_string=''\n",
    "    for i in list1:\n",
    "        new_string=new_string+' '+i\n",
    "    print(new_string)\n",
    "        \n",
    "        "
   ]
  },
  {
   "cell_type": "code",
   "execution_count": 34,
   "metadata": {},
   "outputs": [
    {
     "name": "stdout",
     "output_type": "stream",
     "text": [
      "['-----', 'is', '-', 'Wednesday']\n",
      " ----- is - Wednesday\n"
     ]
    }
   ],
   "source": [
    "req_string=\"Today is a Wednesday\"\n",
    "cen_wrds=[\"Today\",\"a\"]\n",
    "rep_str=\"-\"\n",
    "censor_string(req_string,cen_wrds,rep_str)"
   ]
  },
  {
   "cell_type": "code",
   "execution_count": 35,
   "metadata": {},
   "outputs": [
    {
     "name": "stdout",
     "output_type": "stream",
     "text": [
      "['The', '---', 'jumped', '----', 'the', 'moon.']\n",
      " The --- jumped ---- the moon.\n"
     ]
    }
   ],
   "source": [
    "req_string=\"The cow jumped over the moon.\"\n",
    "cen_wrds=[\"cow\",\"over\"]\n",
    "rep_str=\"-\"\n",
    "censor_string(req_string,cen_wrds,rep_str)"
   ]
  },
  {
   "cell_type": "markdown",
   "metadata": {},
   "source": [
    "In mathematics a Polydivisible Number (or magic number) is a number in a\n",
    "given number base with digits abcde... that has the following properties:"
   ]
  },
  {
   "cell_type": "code",
   "execution_count": 54,
   "metadata": {},
   "outputs": [],
   "source": [
    "def is_polydivisible(num):\n",
    "    str1=str(num)\n",
    "    count=0\n",
    "    res_str=''\n",
    "    flag=True\n",
    "    for i in str1:\n",
    "        res_str=res_str+i\n",
    "        count=count+1\n",
    "        #print(res_str)\n",
    "        #print(count)\n",
    "        if int(res_str)%count!=0:\n",
    "            flag=False\n",
    "            break\n",
    "    if flag==True:\n",
    "        print(\"The number is Polydivisible\")\n",
    "    else:\n",
    "        print(\"The number is not Polydivisible\")\n",
    "        \n",
    "    "
   ]
  },
  {
   "cell_type": "code",
   "execution_count": 56,
   "metadata": {},
   "outputs": [
    {
     "name": "stdout",
     "output_type": "stream",
     "text": [
      "The number is Polydivisible\n"
     ]
    }
   ],
   "source": [
    "is_polydivisible(1232)"
   ]
  },
  {
   "cell_type": "markdown",
   "metadata": {},
   "source": [
    "Create a function that takes a list of numbers and returns the sum of all\n",
    "prime numbers in the list."
   ]
  },
  {
   "cell_type": "code",
   "execution_count": 72,
   "metadata": {},
   "outputs": [],
   "source": [
    "def sum_primes(list1):\n",
    "    sum_result=0\n",
    "    if len(list1)>0:\n",
    "        for i in list1:\n",
    "            for fac in range(2,i//2+1):\n",
    "                if i%fac==0:\n",
    "                    break\n",
    "            else:\n",
    "                #print(i)\n",
    "                sum_result=sum_result+i\n",
    "        if 1 in list1:\n",
    "            sum_result=sum_result-1\n",
    "        print(sum_result)\n",
    "    else:\n",
    "        print(None)\n",
    "        "
   ]
  },
  {
   "cell_type": "code",
   "execution_count": 73,
   "metadata": {},
   "outputs": [
    {
     "name": "stdout",
     "output_type": "stream",
     "text": [
      "28\n"
     ]
    }
   ],
   "source": [
    "list1=[1,2,3,4,5,6,7,8,9,10,11]\n",
    "sum_primes(list1)"
   ]
  },
  {
   "cell_type": "code",
   "execution_count": 74,
   "metadata": {},
   "outputs": [
    {
     "name": "stdout",
     "output_type": "stream",
     "text": [
      "87\n"
     ]
    }
   ],
   "source": [
    "list1=[2,3,4,11,20,50,71]\n",
    "sum_primes(list1)"
   ]
  },
  {
   "cell_type": "code",
   "execution_count": 75,
   "metadata": {},
   "outputs": [
    {
     "name": "stdout",
     "output_type": "stream",
     "text": [
      "None\n"
     ]
    }
   ],
   "source": [
    "list1=[]\n",
    "sum_primes(list1)"
   ]
  },
  {
   "cell_type": "code",
   "execution_count": null,
   "metadata": {},
   "outputs": [],
   "source": []
  }
 ],
 "metadata": {
  "kernelspec": {
   "display_name": "Python 3",
   "language": "python",
   "name": "python3"
  },
  "language_info": {
   "codemirror_mode": {
    "name": "ipython",
    "version": 3
   },
   "file_extension": ".py",
   "mimetype": "text/x-python",
   "name": "python",
   "nbconvert_exporter": "python",
   "pygments_lexer": "ipython3",
   "version": "3.8.3"
  }
 },
 "nbformat": 4,
 "nbformat_minor": 4
}
