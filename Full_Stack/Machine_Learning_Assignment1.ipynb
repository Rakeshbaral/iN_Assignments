{
 "cells": [
  {
   "cell_type": "markdown",
   "metadata": {},
   "source": [
    "<b>1. What does one mean by the term &quot;machine learning&quot;?"
   ]
  },
  {
   "cell_type": "markdown",
   "metadata": {},
   "source": [
    "Machine Learning is the process of training the machines so that they can act and take decisions like a normal human can do"
   ]
  },
  {
   "cell_type": "markdown",
   "metadata": {},
   "source": [
    "<b>2.Can you think of 4 distinct types of issues where it shines?"
   ]
  },
  {
   "cell_type": "markdown",
   "metadata": {},
   "source": [
    "Machine Learning helps us in various fields as per our need.\n",
    "It can be used in weather forecasting using the historical data.\n",
    "It helps companies for taking better decisions using the time series analysis of the market trends.\n",
    "It helps farmers to take appropriate steps for better productivity\n",
    "It helps in our military by the mechanisms of object detection"
   ]
  },
  {
   "cell_type": "markdown",
   "metadata": {},
   "source": [
    "<b>3.What is a labeled training set, and how does it work?"
   ]
  },
  {
   "cell_type": "markdown",
   "metadata": {},
   "source": [
    "After collecting the data, the lion share of it it being used to train the machine similar to the human brain \n",
    "where it is called as experience. Hence after being trained, machine can take real time decision without human intervention."
   ]
  },
  {
   "cell_type": "markdown",
   "metadata": {},
   "source": [
    "<b>4.What are the two most important tasks that are supervised?"
   ]
  },
  {
   "cell_type": "markdown",
   "metadata": {},
   "source": [
    "Using the historical data or some specific numbe of features the machine learning alorithms either clasiify the data \n",
    "into the targeted output or predicts the value of the target variable."
   ]
  },
  {
   "cell_type": "markdown",
   "metadata": {},
   "source": [
    "<b>5.Can you think of four examples of unsupervised tasks?"
   ]
  },
  {
   "cell_type": "markdown",
   "metadata": {},
   "source": [
    "In a retail or banking company it is necessary to address the similar type of customer groups. For finding the similar set of customers, the unsupervised method is used.Association algorithms fall into this category. The unsupervised algorithms determine which all products fall together.It used in feature selection for the optimized output. PCA is an unsupervised algorithm of the similar category."
   ]
  },
  {
   "cell_type": "markdown",
   "metadata": {},
   "source": [
    "<b>6.State the machine learning model that would be best to make a robot walk through various\n",
    "unfamiliar terrains?"
   ]
  },
  {
   "cell_type": "markdown",
   "metadata": {},
   "source": [
    "WE can use a Decision Tree in this case. The robot can be trained with various kind of terrains having the threshold values \n",
    "and the appropriate action to be takes. It helps the robot while taking decision."
   ]
  },
  {
   "cell_type": "markdown",
   "metadata": {},
   "source": [
    "<b>7.Which algorithm will you use to divide your customers into different groups?"
   ]
  },
  {
   "cell_type": "markdown",
   "metadata": {},
   "source": [
    "Different cluster based algorithms can be used in such a case. K-means algorithm is such kind of a model which fits here."
   ]
  },
  {
   "cell_type": "markdown",
   "metadata": {},
   "source": [
    "<b>8.Will you consider the problem of spam detection to be a supervised or unsupervised learning\n",
    "problem?"
   ]
  },
  {
   "cell_type": "markdown",
   "metadata": {},
   "source": [
    "Spam detection is a supervised learning problem as the spam keywords are fed into the model and the model is trainned\n",
    "with some probablistic model approach so that it can ultimately decide how much probable that a mail is spam."
   ]
  },
  {
   "cell_type": "markdown",
   "metadata": {},
   "source": [
    "<b>9.What is the concept of an online learning system?"
   ]
  },
  {
   "cell_type": "markdown",
   "metadata": {},
   "source": [
    "After trainning and deploying the machine learning model, the machine can further learn from the incoming data in the real time \n",
    "is called as online learning system"
   ]
  },
  {
   "cell_type": "markdown",
   "metadata": {},
   "source": [
    "<b>10.What is out-of-core learning, and how does it differ from core learning?"
   ]
  },
  {
   "cell_type": "markdown",
   "metadata": {},
   "source": [
    "Out-of-core learning refers to a set of algorithms working with data that cannot fit into the memory of a single\n",
    "computer, but that can easily fit into some data storage such as a local hard disk or web repository."
   ]
  },
  {
   "cell_type": "markdown",
   "metadata": {},
   "source": [
    "<b>11.What kind of learning algorithm makes predictions using a similarity measure?"
   ]
  },
  {
   "cell_type": "markdown",
   "metadata": {},
   "source": [
    "A recommender system or a search engine use these kind of algorithms to give the output of similar content. The SVM algorithm \n",
    "can be used to find out the similarity score between different products."
   ]
  },
  {
   "cell_type": "markdown",
   "metadata": {},
   "source": [
    "<b>12.What is the difference between a model parameter and a hyperparameter in a learning\n",
    "algorithm?"
   ]
  },
  {
   "cell_type": "markdown",
   "metadata": {},
   "source": [
    "Model parameters can be estimated by the statistical methods as per the data and the hyperparameters are gives as manual input"
   ]
  },
  {
   "cell_type": "markdown",
   "metadata": {},
   "source": [
    "<b>13.What are the criteria that model-based learning algorithms look for? What is the most popular\n",
    "method they use to achieve success? What method do they use to make predictions?"
   ]
  },
  {
   "cell_type": "markdown",
   "metadata": {},
   "source": [
    "The model based algorithms look for the model error values and tries to minimize it by repeated trainning. One of the \n",
    "methods are Gradient Descent, it help to reduce the errors for the better result."
   ]
  },
  {
   "cell_type": "markdown",
   "metadata": {},
   "source": [
    "<b>14.Can you name four of the most important Machine Learning challenges?"
   ]
  },
  {
   "cell_type": "markdown",
   "metadata": {},
   "source": [
    "Speed and Accuracy trade off, Efficient feature engineering, Setting the appropriate hyperparameter values, Reducing the computation power are some of many challleges we face"
   ]
  },
  {
   "cell_type": "markdown",
   "metadata": {},
   "source": [
    "<b>15.What happens if the model performs well on the training data but fails to generalize the results\n",
    "to new situations? Can you think of three different options?"
   ]
  },
  {
   "cell_type": "markdown",
   "metadata": {},
   "source": [
    "This is the case of overfitting. In this case the better normaliztion, applying regularization and unbiased datset \n",
    "are required for the better output."
   ]
  },
  {
   "cell_type": "markdown",
   "metadata": {},
   "source": [
    "<b>16.What exactly is a test set, and why would you need one?"
   ]
  },
  {
   "cell_type": "markdown",
   "metadata": {},
   "source": [
    "The test set is required to check if the model is working well before productionizing it."
   ]
  },
  {
   "cell_type": "markdown",
   "metadata": {},
   "source": [
    "<b>17.What is a validation set&#39;s purpose?"
   ]
  },
  {
   "cell_type": "markdown",
   "metadata": {},
   "source": [
    "Validation set actually can be regarded as a part of training set, because it is used to build your model, neural networks or others. It is usually used for parameter selection and to avoid overfitting."
   ]
  },
  {
   "cell_type": "markdown",
   "metadata": {},
   "source": [
    "<b>18.What precisely is the train-dev kit, when will you need it, how do you put it to use?"
   ]
  },
  {
   "cell_type": "markdown",
   "metadata": {},
   "source": [
    "The train dev set is otherwise called as validation set.It can be used as suffling the datset and training the model with different situations ao that it will not be overfitted."
   ]
  },
  {
   "cell_type": "markdown",
   "metadata": {},
   "source": [
    "<b>19.What could go wrong if you use the test set to tune hyperparameters?"
   ]
  },
  {
   "cell_type": "markdown",
   "metadata": {},
   "source": [
    "If the model parameter set is  changed as per the test results, then the model will be biased towards the test datset\n",
    " and it will not work well against the unseen data. Therefore we can not test the model whether it is a good model or not."
   ]
  },
  {
   "cell_type": "code",
   "execution_count": null,
   "metadata": {},
   "outputs": [],
   "source": []
  }
 ],
 "metadata": {
  "kernelspec": {
   "display_name": "Python 3",
   "language": "python",
   "name": "python3"
  },
  "language_info": {
   "codemirror_mode": {
    "name": "ipython",
    "version": 3
   },
   "file_extension": ".py",
   "mimetype": "text/x-python",
   "name": "python",
   "nbconvert_exporter": "python",
   "pygments_lexer": "ipython3",
   "version": "3.8.3"
  }
 },
 "nbformat": 4,
 "nbformat_minor": 4
}
