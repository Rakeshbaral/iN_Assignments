{
 "cells": [
  {
   "cell_type": "markdown",
   "metadata": {},
   "source": [
    "Write a function that takes a positive integer num and calculates how many\n",
    "dots exist in a pentagonal shape around the center dot on the Nth iteration."
   ]
  },
  {
   "cell_type": "code",
   "execution_count": 9,
   "metadata": {},
   "outputs": [],
   "source": [
    "def draw_points(itern):\n",
    "    count=0\n",
    "    num_points=1\n",
    "    for i in range(1,itern+1):\n",
    "        num_points=num_points+5*count\n",
    "        count+=1\n",
    "    print(num_points)\n",
    "    "
   ]
  },
  {
   "cell_type": "code",
   "execution_count": 10,
   "metadata": {},
   "outputs": [
    {
     "name": "stdout",
     "output_type": "stream",
     "text": [
      "Enter the number of iterations you want8\n",
      "141\n"
     ]
    }
   ],
   "source": [
    "itern=int(input(\"Enter the number of iterations you want\"))\n",
    "draw_points(itern)"
   ]
  },
  {
   "cell_type": "markdown",
   "metadata": {},
   "source": [
    "2. Make a function that encrypts a given input with these steps:"
   ]
  },
  {
   "cell_type": "code",
   "execution_count": 8,
   "metadata": {},
   "outputs": [
    {
     "name": "stdout",
     "output_type": "stream",
     "text": [
      "Enter a stringapple\n",
      "1lpp0aca\n"
     ]
    }
   ],
   "source": [
    "string1=input(\"Enter a string\")\n",
    "def encrypt(string1):\n",
    "    rev_str=string1[::-1]\n",
    "    rev_str=rev_str.replace('a','0')\n",
    "    rev_str=rev_str.replace('e','1')\n",
    "    rev_str=rev_str.replace('i','2')\n",
    "    rev_str=rev_str.replace('o','2')\n",
    "    rev_str=rev_str.replace('u','3')\n",
    "    rev_str=rev_str+'aca'\n",
    "    print(rev_str)\n",
    "\n",
    "encrypt(string1)\n",
    "    \n"
   ]
  },
  {
   "cell_type": "markdown",
   "metadata": {},
   "source": [
    "Given the month and year as numbers, return whether that month contains\n",
    "a Friday 13th.(i.e You can check Python&#39;s datetime module)"
   ]
  },
  {
   "cell_type": "markdown",
   "metadata": {},
   "source": [
    "Write a regular expression that will help us count how many bad cookies\n",
    "are produced every day. You must use RegEx negative lookbehind."
   ]
  },
  {
   "cell_type": "code",
   "execution_count": 6,
   "metadata": {},
   "outputs": [
    {
     "name": "stdout",
     "output_type": "stream",
     "text": [
      "['cows', 'pig']\n"
     ]
    }
   ],
   "source": [
    "list1=['cow','cow','pig']\n",
    "list2=[]\n",
    "#list3=[]\n",
    "\n",
    "def plularize(list1):\n",
    "    count=0\n",
    "    for i in list1:\n",
    "        count=0\n",
    "        for j in list1:\n",
    "            if i==j:\n",
    "                count=count+1\n",
    "        if count>1:\n",
    "            list2.append(i+'s')\n",
    "            list1.remove(i)\n",
    "            #print(list2)\n",
    "            #count=0\n",
    "        else:\n",
    "            list2.append(i)\n",
    "            list1.remove(i)\n",
    "    print(list2)\n",
    "            \n",
    "plularize(list1)"
   ]
  },
  {
   "cell_type": "code",
   "execution_count": null,
   "metadata": {},
   "outputs": [],
   "source": []
  }
 ],
 "metadata": {
  "kernelspec": {
   "display_name": "Python 3",
   "language": "python",
   "name": "python3"
  },
  "language_info": {
   "codemirror_mode": {
    "name": "ipython",
    "version": 3
   },
   "file_extension": ".py",
   "mimetype": "text/x-python",
   "name": "python",
   "nbconvert_exporter": "python",
   "pygments_lexer": "ipython3",
   "version": "3.8.3"
  }
 },
 "nbformat": 4,
 "nbformat_minor": 4
}
