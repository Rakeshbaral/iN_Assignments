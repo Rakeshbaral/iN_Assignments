{
 "cells": [
  {
   "cell_type": "markdown",
   "metadata": {},
   "source": [
    "1. Create a function to perform basic arithmetic operations that includes\n",
    "addition, subtraction, multiplication and division on a string number (e.g. &quot;12 +\n",
    "24&quot; or &quot;23 - 21&quot; or &quot;12 // 12&quot; or &quot;12 * 21&quot;)."
   ]
  },
  {
   "cell_type": "code",
   "execution_count": 116,
   "metadata": {},
   "outputs": [
    {
     "name": "stdout",
     "output_type": "stream",
     "text": [
      "Give any mathematical expression2 - 3\n",
      "-1\n"
     ]
    }
   ],
   "source": [
    "ex=input(\"Give any mathematical expression\")\n",
    "#ex=' 2  0'\n",
    "arithmatic_operation(ex)"
   ]
  },
  {
   "cell_type": "code",
   "execution_count": 115,
   "metadata": {},
   "outputs": [],
   "source": [
    "def arithmatic_operation(ex):\n",
    "    flag=True\n",
    "    for i in ex:\n",
    "        \n",
    "        #print('x')\n",
    "        if (i=='+' or i=='-' or i=='*' or i=='/'):\n",
    "            if i=='+':\n",
    "                #print('num1')\n",
    "                flag=False\n",
    "                add(ex)\n",
    "                #print(flag)\n",
    "            if i=='-':\n",
    "                flag=False\n",
    "                sub(ex)\n",
    "            if i=='*':\n",
    "                flag=False\n",
    "                mul(ex)\n",
    "            #print('x')\n",
    "            if i=='/':\n",
    "                #print('x')\n",
    "                flag=False\n",
    "                div(ex)\n",
    "                break\n",
    "    if flag==True:\n",
    "        #print(flag)\n",
    "        print(\"Either no operator or wrong operator is used.Please give some valid operator\")\n",
    "            \n",
    "def add(ex):\n",
    "    num1=''\n",
    "    num2=''\n",
    "    flag=True\n",
    "    for i in ex:\n",
    "        if i!='+'and flag==True:\n",
    "            num1=num1+i\n",
    "        elif i=='+':\n",
    "            flag=False\n",
    "            pass\n",
    "        else:\n",
    "            num2=num2+i\n",
    "    #print(num1)\n",
    "    num1=int(num1)\n",
    "    num2=int(num2)\n",
    "    print(num1+num2)\n",
    "\n",
    "def sub(ex):\n",
    "    num1=''\n",
    "    num2=''\n",
    "    flag=True\n",
    "    for i in ex:\n",
    "        if i!='-'and flag==True:\n",
    "            num1=num1+i\n",
    "        elif i=='-':\n",
    "            flag=False\n",
    "            pass\n",
    "        else:\n",
    "            num2=num2+i\n",
    "    #print(num1)\n",
    "    num1=int(num1)\n",
    "    num2=int(num2)\n",
    "    print(num1-num2)\n",
    "    \n",
    "def mul(ex):\n",
    "    num1=''\n",
    "    num2=''\n",
    "    flag=True\n",
    "    for i in ex:\n",
    "        if i!='*'and flag==True:\n",
    "            num1=num1+i\n",
    "        elif i=='*':\n",
    "            flag=False\n",
    "            pass\n",
    "        else:\n",
    "            num2=num2+i\n",
    "    #print(num1)\n",
    "    num1=int(num1)\n",
    "    num2=int(num2)\n",
    "    print(num1*num2)\n",
    "    \n",
    "def div(ex):\n",
    "    #print('x')\n",
    "    num1=''\n",
    "    num2=''\n",
    "    flag=True\n",
    "    #print('x')\n",
    "    for i in ex:\n",
    "        if i!='/'and flag==True:\n",
    "            num1=num1+i\n",
    "        elif i=='/':\n",
    "            flag=False\n",
    "            pass\n",
    "        else:\n",
    "            num2=num2+i\n",
    "    #print(num1)\n",
    "    num1=int(num1)\n",
    "    num2=int(num2)\n",
    "    if num1>num2 and num2!=0:\n",
    "        print(num1//num2)\n",
    "    elif num2==0:\n",
    "        print('-1')\n",
    "    else:\n",
    "        print(\"Number 1 should be greater than number 2\")\n",
    "        \n",
    "                "
   ]
  },
  {
   "cell_type": "markdown",
   "metadata": {},
   "source": [
    "2.Perimeter of a triangle"
   ]
  },
  {
   "cell_type": "code",
   "execution_count": 1,
   "metadata": {},
   "outputs": [],
   "source": [
    "import numpy as np"
   ]
  },
  {
   "cell_type": "code",
   "execution_count": 12,
   "metadata": {},
   "outputs": [],
   "source": [
    "def perimeter(list1):\n",
    "    if len(list1)!=3 or len(list1[0])!=2 or len(list1[1])!=2 or len(list1[2])!=2:\n",
    "        #flag=True\n",
    "        print(\"invalid\")\n",
    "    else:\n",
    "        L1=np.sqrt((list1[0][0]-list1[1][0])**2+(list1[0][1]-list1[1][1])**2)\n",
    "        L2=np.sqrt((list1[0][0]-list1[2][0])**2+(list1[0][1]-list1[2][1])**2)\n",
    "        L3=np.sqrt((list1[1][0]-list1[2][0])**2+(list1[1][1]-list1[2][1])**2)\n",
    "        print(L1+L2+L3)\n",
    "    "
   ]
  },
  {
   "cell_type": "code",
   "execution_count": 14,
   "metadata": {},
   "outputs": [
    {
     "name": "stdout",
     "output_type": "stream",
     "text": [
      "47.07918859608948\n"
     ]
    }
   ],
   "source": [
    "list1=[[1,2],[2,2],[3,3]]\n",
    "list2=[[15,7],[5,22],[11,1]]\n",
    "perimeter(list2)"
   ]
  },
  {
   "cell_type": "markdown",
   "metadata": {},
   "source": [
    "3.Tallest Skyscraper"
   ]
  },
  {
   "cell_type": "code",
   "execution_count": 29,
   "metadata": {},
   "outputs": [],
   "source": [
    "def tallest_skyscraper(list11):\n",
    "    list2=[]\n",
    "    for i in range(len(list11[0])):\n",
    "        sum1=0\n",
    "        for j in list11:\n",
    "            sum1=sum1+j[i]\n",
    "        list2.append(sum1)\n",
    "    print(\"The maximum length is \",max(list2))"
   ]
  },
  {
   "cell_type": "code",
   "execution_count": 31,
   "metadata": {},
   "outputs": [
    {
     "name": "stdout",
     "output_type": "stream",
     "text": [
      "The maximum length is  2\n"
     ]
    }
   ],
   "source": [
    "list11=[[0, 0, 0, 0],\n",
    "[0, 1, 0, 0],\n",
    "[0, 1, 1, 0],\n",
    "[1, 1, 1, 1]]\n",
    "list12=[[0, 0, 0, 0],\n",
    "[0, 0, 0, 0],\n",
    "[1, 1, 1, 0],\n",
    "[1, 1, 1, 1]]\n",
    "tallest_skyscraper(list12)"
   ]
  },
  {
   "cell_type": "markdown",
   "metadata": {},
   "source": [
    "4.The incentive payment for the billable days"
   ]
  },
  {
   "cell_type": "code",
   "execution_count": 52,
   "metadata": {},
   "outputs": [],
   "source": [
    "def bonus(days):\n",
    "    #payment=0\n",
    "    if days>48:\n",
    "        #print('a')\n",
    "        bonus_48(days)\n",
    "    elif days>40 and days<=48:\n",
    "        bonus_40(days)\n",
    "    elif days>32 and days<=39:\n",
    "        #print('a')\n",
    "        bonus_32(days)\n",
    "    else:\n",
    "        print(\"The bonus amount is 0\") \n",
    "        \n",
    "def bonus_48(days):\n",
    "    payment=32*0 + 8*325 + 8*550+(days-48)*600\n",
    "    print(payment)\n",
    "def bonus_40(days):\n",
    "    payment=32*0+8*325+(days-40)*550\n",
    "    print(payment)\n",
    "def bonus_32(days):\n",
    "    payment=32*0+(days-32)*325\n",
    "    print(payment)\n",
    "        "
   ]
  },
  {
   "cell_type": "code",
   "execution_count": 53,
   "metadata": {},
   "outputs": [
    {
     "name": "stdout",
     "output_type": "stream",
     "text": [
      "8200\n"
     ]
    }
   ],
   "source": [
    "bonus(45)\n",
    "bonus(37)\n",
    "bonus(50)"
   ]
  },
  {
   "cell_type": "markdown",
   "metadata": {},
   "source": [
    "Disarium Number"
   ]
  },
  {
   "cell_type": "code",
   "execution_count": 73,
   "metadata": {},
   "outputs": [],
   "source": [
    "def Disarium(num):\n",
    "    num1=num\n",
    "    list1=list(str(num))\n",
    "    sum1=0\n",
    "    count=1\n",
    "    for i in list1:\n",
    "        sum1=sum1+pow(int(i),count)\n",
    "        count=count+1\n",
    "        #print(sum1)\n",
    "    if num1==sum1:\n",
    "        print(True)\n",
    "    else:\n",
    "        print(False)\n",
    "        \n",
    "        "
   ]
  },
  {
   "cell_type": "code",
   "execution_count": 77,
   "metadata": {},
   "outputs": [
    {
     "name": "stdout",
     "output_type": "stream",
     "text": [
      "True\n",
      "True\n",
      "False\n",
      "True\n"
     ]
    }
   ],
   "source": [
    "Disarium(135)\n",
    "Disarium(518)\n",
    "Disarium(544)\n",
    "Disarium(8)"
   ]
  },
  {
   "cell_type": "code",
   "execution_count": null,
   "metadata": {},
   "outputs": [],
   "source": []
  }
 ],
 "metadata": {
  "kernelspec": {
   "display_name": "Python 3",
   "language": "python",
   "name": "python3"
  },
  "language_info": {
   "codemirror_mode": {
    "name": "ipython",
    "version": 3
   },
   "file_extension": ".py",
   "mimetype": "text/x-python",
   "name": "python",
   "nbconvert_exporter": "python",
   "pygments_lexer": "ipython3",
   "version": "3.8.3"
  }
 },
 "nbformat": 4,
 "nbformat_minor": 4
}
