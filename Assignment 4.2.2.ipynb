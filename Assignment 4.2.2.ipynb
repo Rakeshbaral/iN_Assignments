{
 "cells": [
  {
   "cell_type": "code",
   "execution_count": 5,
   "metadata": {},
   "outputs": [
    {
     "name": "stdout",
     "output_type": "stream",
     "text": [
      "Enter a letter to check if it is a vowel or nota\n",
      "True\n"
     ]
    }
   ],
   "source": [
    "def check_vowels(character):\n",
    "    vowel=['a','e','i','o','u']\n",
    "    #flag=False\n",
    "    for i in vowel:\n",
    "        if(character==i):\n",
    "            return True\n",
    "    return False\n",
    "\n",
    "character=input('Enter a letter to check if it is a vowel or not')\n",
    "print(check_vowels(character))\n"
   ]
  },
  {
   "cell_type": "code",
   "execution_count": null,
   "metadata": {},
   "outputs": [],
   "source": []
  }
 ],
 "metadata": {
  "kernelspec": {
   "display_name": "Python 3",
   "language": "python",
   "name": "python3"
  },
  "language_info": {
   "codemirror_mode": {
    "name": "ipython",
    "version": 3
   },
   "file_extension": ".py",
   "mimetype": "text/x-python",
   "name": "python",
   "nbconvert_exporter": "python",
   "pygments_lexer": "ipython3",
   "version": "3.8.3"
  }
 },
 "nbformat": 4,
 "nbformat_minor": 4
}
