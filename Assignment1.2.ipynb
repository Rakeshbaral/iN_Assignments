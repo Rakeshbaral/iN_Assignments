{
 "cells": [
  {
   "cell_type": "code",
   "execution_count": 17,
   "metadata": {},
   "outputs": [
    {
     "name": "stdout",
     "output_type": "stream",
     "text": [
      "What is your first name?rakesh\n",
      "What is your second name?baral\n",
      "hsekar larab\n"
     ]
    }
   ],
   "source": [
    "first_name=input(\"What is your first name?\")\n",
    "second_name=input(\"What is your second name?\")\n",
    "\n",
    "\n",
    "def rev_string(word):\n",
    "    ch1=\"\"\n",
    "#reversing the sting by adding single character in reverse order\n",
    "    for c in word:\n",
    "        ch1=c+ch1\n",
    "    return ch1\n",
    "        \n",
    "\n",
    "name1=rev_string(first_name)\n",
    "name2=rev_string(second_name)\n",
    "print(name1,name2)  "
   ]
  },
  {
   "cell_type": "code",
   "execution_count": null,
   "metadata": {},
   "outputs": [],
   "source": []
  },
  {
   "cell_type": "code",
   "execution_count": null,
   "metadata": {},
   "outputs": [],
   "source": []
  }
 ],
 "metadata": {
  "kernelspec": {
   "display_name": "Python 3",
   "language": "python",
   "name": "python3"
  },
  "language_info": {
   "codemirror_mode": {
    "name": "ipython",
    "version": 3
   },
   "file_extension": ".py",
   "mimetype": "text/x-python",
   "name": "python",
   "nbconvert_exporter": "python",
   "pygments_lexer": "ipython3",
   "version": "3.8.3"
  }
 },
 "nbformat": 4,
 "nbformat_minor": 4
}
