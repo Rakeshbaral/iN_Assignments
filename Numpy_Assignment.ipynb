{
 "cells": [
  {
   "cell_type": "markdown",
   "metadata": {},
   "source": [
    "# 2 ----Moviing window to get the averages "
   ]
  },
  {
   "cell_type": "code",
   "execution_count": 186,
   "metadata": {},
   "outputs": [
    {
     "name": "stdout",
     "output_type": "stream",
     "text": [
      "3 5 7\n",
      "5 7 2\n",
      "7 2 8\n",
      "2 8 10\n",
      "8 10 11\n",
      "10 11 65\n",
      "11 65 72\n",
      "65 72 81\n",
      "72 81 99\n",
      "81 99 100\n",
      "99 100 150\n",
      "[  5.           4.66666667   5.66666667   6.66666667   9.66666667\n",
      "  28.66666667  49.33333333  72.66666667  84.          93.33333333\n",
      " 116.33333333]\n"
     ]
    }
   ],
   "source": [
    "import numpy as np\n",
    "def moving_avg(arr):\n",
    "    n1=0\n",
    "    n2=1\n",
    "    n3=2\n",
    "    avg=np.zeros(mov_avg_val)\n",
    "    for x in range(0,mov_avg_val):\n",
    "        #print(n1,n2,n3)\n",
    "        avg1=(arr1[n1]+arr1[n2]+arr1[n3])/3\n",
    "        print(arr1[n1],arr1[n2],arr1[n3])\n",
    "        if x<=mov_avg_val:\n",
    "            n1=n1+1\n",
    "            n2=n2+1\n",
    "            n3=n3+1\n",
    "        avg[x]=avg1\n",
    "    print(avg)\n",
    "        \n",
    "    \n",
    "arr1=np.array([3,5,7,2,8,10,11,65,72,81,99,100,150])\n",
    "win=3\n",
    "mov_avg_val=len(arr1)-win+1\n",
    "moving_avg(arr1)\n",
    "#print(avg)"
   ]
  },
  {
   "cell_type": "markdown",
   "metadata": {},
   "source": [
    "# 1----Give user input as True or False to sepecify Increasing/Decreasing respectively"
   ]
  },
  {
   "cell_type": "code",
   "execution_count": 175,
   "metadata": {},
   "outputs": [],
   "source": [
    "def Van_array(arr):\n",
    "    print('x')\n",
    "    x=0\n",
    "    #N=4\n",
    "    for row in res_array:\n",
    "        for i in range(1,N+1):\n",
    "            row[i-1]=np.power(arr[x],i)\n",
    "            #print(row[i])\n",
    "        x=x+1\n",
    "    print(res_array)  \n",
    "    \n",
    "def Van_array1(arr):\n",
    "    #N=4\n",
    "    x=0\n",
    "    for row in res_array:\n",
    "        for i in range(len(row)):\n",
    "            row[i]=np.power(arr[x],N-i-1)\n",
    "            #print(res_array[i])\n",
    "        x=x+1\n",
    "    print(res_array)\n",
    "        "
   ]
  },
  {
   "cell_type": "code",
   "execution_count": 183,
   "metadata": {},
   "outputs": [
    {
     "name": "stdout",
     "output_type": "stream",
     "text": [
      "Please give True/False value for increasingFalse\n",
      "False\n",
      "[[ 1.  1.  1.  1.]\n",
      " [ 8.  4.  2.  1.]\n",
      " [27.  9.  3.  1.]\n",
      " [64. 16.  4.  1.]]\n"
     ]
    }
   ],
   "source": [
    "arr=np.array([1,2,3,4])\n",
    "N=4\n",
    "res_array=np.zeros((len(arr),N))\n",
    "increasing=input(\"Please give True/False value for increasing\")\n",
    "print(increasing)\n",
    "if increasing==True:\n",
    "    Van_array(arr)\n",
    "else:\n",
    "    Van_array1(arr)"
   ]
  },
  {
   "cell_type": "code",
   "execution_count": 185,
   "metadata": {},
   "outputs": [
    {
     "name": "stdout",
     "output_type": "stream",
     "text": [
      "x\n",
      "[[  1.   1.   1.   1.]\n",
      " [  2.   4.   8.  16.]\n",
      " [  3.   9.  27.  81.]\n",
      " [  4.  16.  64. 256.]]\n"
     ]
    }
   ],
   "source": [
    "Van_array(arr)"
   ]
  },
  {
   "cell_type": "code",
   "execution_count": null,
   "metadata": {},
   "outputs": [],
   "source": []
  }
 ],
 "metadata": {
  "kernelspec": {
   "display_name": "Python 3",
   "language": "python",
   "name": "python3"
  },
  "language_info": {
   "codemirror_mode": {
    "name": "ipython",
    "version": 3
   },
   "file_extension": ".py",
   "mimetype": "text/x-python",
   "name": "python",
   "nbconvert_exporter": "python",
   "pygments_lexer": "ipython3",
   "version": "3.8.3"
  }
 },
 "nbformat": 4,
 "nbformat_minor": 4
}
